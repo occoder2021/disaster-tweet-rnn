{
 "cells": [
  {
   "cell_type": "markdown",
   "metadata": {
    "_cell_guid": "79c7e3d0-c299-4dcb-8224-4455121ee9b0",
    "_uuid": "d629ff2d2480ee46fbb7e2d37f6b5fab8052498a"
   },
   "source": [
    "## Project Overview:\n",
    "Twitter has become an important communication channel in times of emergency. The ubiquitousness of smartphones enables people to announce an emergency they’re observing in real-time. Because of this, more agencies are interested in programatically monitoring Twitter (i.e. disaster relief organizations and news agencies).\n",
    "\n",
    "In this project, we will build a machine learning model that predicts which Tweets are about real disasters and which one’s aren’t. The dataset consists of 10,000 labeled tweets. I will use the LSTM technique to train an RNN model. \n",
    "\n",
    "# Here are the various tasks covered in this project:\n",
    "- Exploratory Data Analysis\n",
    "- Data Cleaning and use of pre-trained model (e.g. GloVe)\n",
    "- Model Architecture\n",
    "- Building a RNN model\n",
    "- Model Evaluation\n",
    "- Submitting result\n"
   ]
  },
  {
   "cell_type": "code",
   "execution_count": 25,
   "metadata": {
    "execution": {
     "iopub.execute_input": "2023-07-30T18:40:55.477679Z",
     "iopub.status.busy": "2023-07-30T18:40:55.477393Z",
     "iopub.status.idle": "2023-07-30T18:40:55.572964Z",
     "shell.execute_reply": "2023-07-30T18:40:55.572417Z",
     "shell.execute_reply.started": "2023-07-30T18:40:55.477633Z"
    }
   },
   "outputs": [],
   "source": [
    "import pandas as pd\n",
    "import numpy as np\n",
    "import seaborn as sns\n",
    "import matplotlib.pyplot as plt\n",
    "import string\n",
    "from tqdm import tqdm\n",
    "import re\n",
    "\n",
    "# nltk\n",
    "from nltk.tokenize import word_tokenize\n",
    "from nltk.corpus import stopwords\n",
    "\n",
    "\n",
    "# sklearn\n",
    "from sklearn.model_selection import train_test_split\n",
    "\n",
    "from sklearn import model_selection, metrics, preprocessing, ensemble, model_selection, metrics\n",
    "\n",
    "# keras and tensorflow\n",
    "from keras.preprocessing.text import Tokenizer\n",
    "from keras.preprocessing.sequence import pad_sequences\n",
    "\n",
    "from keras.models import Sequential\n",
    "from keras.layers import Embedding,LSTM,Dense,SpatialDropout1D\n",
    "from keras.initializers import Constant\n",
    "from keras.optimizers import Adam\n",
    "\n",
    "import tensorflow as tf\n",
    "\n",
    "stop = set(stopwords.words('english'))"
   ]
  },
  {
   "cell_type": "markdown",
   "metadata": {},
   "source": [
    "### Loading Data"
   ]
  },
  {
   "cell_type": "code",
   "execution_count": 3,
   "metadata": {
    "execution": {
     "iopub.execute_input": "2023-07-30T18:34:52.574031Z",
     "iopub.status.busy": "2023-07-30T18:34:52.573480Z",
     "iopub.status.idle": "2023-07-30T18:34:52.637497Z",
     "shell.execute_reply": "2023-07-30T18:34:52.635900Z",
     "shell.execute_reply.started": "2023-07-30T18:34:52.573972Z"
    }
   },
   "outputs": [],
   "source": [
    "df_train = pd.read_csv('../input/nlp-getting-started/train.csv')\n",
    "df_test = pd.read_csv('../input/nlp-getting-started/test.csv')"
   ]
  },
  {
   "cell_type": "markdown",
   "metadata": {},
   "source": [
    "### EDA"
   ]
  },
  {
   "cell_type": "markdown",
   "metadata": {
    "execution": {
     "iopub.execute_input": "2023-07-30T18:01:43.843027Z",
     "iopub.status.busy": "2023-07-30T18:01:43.842740Z",
     "iopub.status.idle": "2023-07-30T18:01:43.852864Z",
     "shell.execute_reply": "2023-07-30T18:01:43.851278Z",
     "shell.execute_reply.started": "2023-07-30T18:01:43.842976Z"
    }
   },
   "source": [
    "Dataset has 5 columns. Column “target” is the label column which means I am going to train a model that can predict the value of column “target” using other columns such as “text”, “location” and “keyword”.\n",
    "\n",
    "Here are the 5 columns:\n",
    "\n",
    "* id - a unique identifier for each tweet\n",
    "* text - the text of the tweet\n",
    "* location - the location the tweet was sent from (may be blank)\n",
    "* keyword - a particular keyword from the tweet (may be blank)\n",
    "* target - in train.csv only, this means whether a tweet is about a real disaster (1) or not (0)"
   ]
  },
  {
   "cell_type": "code",
   "execution_count": 4,
   "metadata": {
    "execution": {
     "iopub.execute_input": "2023-07-30T18:35:02.362757Z",
     "iopub.status.busy": "2023-07-30T18:35:02.362451Z",
     "iopub.status.idle": "2023-07-30T18:35:02.398702Z",
     "shell.execute_reply": "2023-07-30T18:35:02.398111Z",
     "shell.execute_reply.started": "2023-07-30T18:35:02.362719Z"
    }
   },
   "outputs": [
    {
     "data": {
      "text/html": [
       "<div>\n",
       "<style scoped>\n",
       "    .dataframe tbody tr th:only-of-type {\n",
       "        vertical-align: middle;\n",
       "    }\n",
       "\n",
       "    .dataframe tbody tr th {\n",
       "        vertical-align: top;\n",
       "    }\n",
       "\n",
       "    .dataframe thead th {\n",
       "        text-align: right;\n",
       "    }\n",
       "</style>\n",
       "<table border=\"1\" class=\"dataframe\">\n",
       "  <thead>\n",
       "    <tr style=\"text-align: right;\">\n",
       "      <th></th>\n",
       "      <th>id</th>\n",
       "      <th>keyword</th>\n",
       "      <th>location</th>\n",
       "      <th>text</th>\n",
       "      <th>target</th>\n",
       "    </tr>\n",
       "  </thead>\n",
       "  <tbody>\n",
       "    <tr>\n",
       "      <th>0</th>\n",
       "      <td>1</td>\n",
       "      <td>NaN</td>\n",
       "      <td>NaN</td>\n",
       "      <td>Our Deeds are the Reason of this #earthquake M...</td>\n",
       "      <td>1</td>\n",
       "    </tr>\n",
       "    <tr>\n",
       "      <th>1</th>\n",
       "      <td>4</td>\n",
       "      <td>NaN</td>\n",
       "      <td>NaN</td>\n",
       "      <td>Forest fire near La Ronge Sask. Canada</td>\n",
       "      <td>1</td>\n",
       "    </tr>\n",
       "    <tr>\n",
       "      <th>2</th>\n",
       "      <td>5</td>\n",
       "      <td>NaN</td>\n",
       "      <td>NaN</td>\n",
       "      <td>All residents asked to 'shelter in place' are ...</td>\n",
       "      <td>1</td>\n",
       "    </tr>\n",
       "    <tr>\n",
       "      <th>3</th>\n",
       "      <td>6</td>\n",
       "      <td>NaN</td>\n",
       "      <td>NaN</td>\n",
       "      <td>13,000 people receive #wildfires evacuation or...</td>\n",
       "      <td>1</td>\n",
       "    </tr>\n",
       "    <tr>\n",
       "      <th>4</th>\n",
       "      <td>7</td>\n",
       "      <td>NaN</td>\n",
       "      <td>NaN</td>\n",
       "      <td>Just got sent this photo from Ruby #Alaska as ...</td>\n",
       "      <td>1</td>\n",
       "    </tr>\n",
       "  </tbody>\n",
       "</table>\n",
       "</div>"
      ],
      "text/plain": [
       "   id keyword location                                               text  \\\n",
       "0   1     NaN      NaN  Our Deeds are the Reason of this #earthquake M...   \n",
       "1   4     NaN      NaN             Forest fire near La Ronge Sask. Canada   \n",
       "2   5     NaN      NaN  All residents asked to 'shelter in place' are ...   \n",
       "3   6     NaN      NaN  13,000 people receive #wildfires evacuation or...   \n",
       "4   7     NaN      NaN  Just got sent this photo from Ruby #Alaska as ...   \n",
       "\n",
       "   target  \n",
       "0       1  \n",
       "1       1  \n",
       "2       1  \n",
       "3       1  \n",
       "4       1  "
      ]
     },
     "execution_count": 4,
     "metadata": {},
     "output_type": "execute_result"
    }
   ],
   "source": [
    "df_train.head()"
   ]
  },
  {
   "cell_type": "code",
   "execution_count": 5,
   "metadata": {
    "execution": {
     "iopub.execute_input": "2023-07-30T18:35:02.748810Z",
     "iopub.status.busy": "2023-07-30T18:35:02.748271Z",
     "iopub.status.idle": "2023-07-30T18:35:02.760830Z",
     "shell.execute_reply": "2023-07-30T18:35:02.759452Z",
     "shell.execute_reply.started": "2023-07-30T18:35:02.748762Z"
    }
   },
   "outputs": [
    {
     "data": {
      "text/html": [
       "<div>\n",
       "<style scoped>\n",
       "    .dataframe tbody tr th:only-of-type {\n",
       "        vertical-align: middle;\n",
       "    }\n",
       "\n",
       "    .dataframe tbody tr th {\n",
       "        vertical-align: top;\n",
       "    }\n",
       "\n",
       "    .dataframe thead th {\n",
       "        text-align: right;\n",
       "    }\n",
       "</style>\n",
       "<table border=\"1\" class=\"dataframe\">\n",
       "  <thead>\n",
       "    <tr style=\"text-align: right;\">\n",
       "      <th></th>\n",
       "      <th>id</th>\n",
       "      <th>keyword</th>\n",
       "      <th>location</th>\n",
       "      <th>text</th>\n",
       "      <th>target</th>\n",
       "    </tr>\n",
       "  </thead>\n",
       "  <tbody>\n",
       "    <tr>\n",
       "      <th>7608</th>\n",
       "      <td>10869</td>\n",
       "      <td>NaN</td>\n",
       "      <td>NaN</td>\n",
       "      <td>Two giant cranes holding a bridge collapse int...</td>\n",
       "      <td>1</td>\n",
       "    </tr>\n",
       "    <tr>\n",
       "      <th>7609</th>\n",
       "      <td>10870</td>\n",
       "      <td>NaN</td>\n",
       "      <td>NaN</td>\n",
       "      <td>@aria_ahrary @TheTawniest The out of control w...</td>\n",
       "      <td>1</td>\n",
       "    </tr>\n",
       "    <tr>\n",
       "      <th>7610</th>\n",
       "      <td>10871</td>\n",
       "      <td>NaN</td>\n",
       "      <td>NaN</td>\n",
       "      <td>M1.94 [01:04 UTC]?5km S of Volcano Hawaii. htt...</td>\n",
       "      <td>1</td>\n",
       "    </tr>\n",
       "    <tr>\n",
       "      <th>7611</th>\n",
       "      <td>10872</td>\n",
       "      <td>NaN</td>\n",
       "      <td>NaN</td>\n",
       "      <td>Police investigating after an e-bike collided ...</td>\n",
       "      <td>1</td>\n",
       "    </tr>\n",
       "    <tr>\n",
       "      <th>7612</th>\n",
       "      <td>10873</td>\n",
       "      <td>NaN</td>\n",
       "      <td>NaN</td>\n",
       "      <td>The Latest: More Homes Razed by Northern Calif...</td>\n",
       "      <td>1</td>\n",
       "    </tr>\n",
       "  </tbody>\n",
       "</table>\n",
       "</div>"
      ],
      "text/plain": [
       "         id keyword location  \\\n",
       "7608  10869     NaN      NaN   \n",
       "7609  10870     NaN      NaN   \n",
       "7610  10871     NaN      NaN   \n",
       "7611  10872     NaN      NaN   \n",
       "7612  10873     NaN      NaN   \n",
       "\n",
       "                                                   text  target  \n",
       "7608  Two giant cranes holding a bridge collapse int...       1  \n",
       "7609  @aria_ahrary @TheTawniest The out of control w...       1  \n",
       "7610  M1.94 [01:04 UTC]?5km S of Volcano Hawaii. htt...       1  \n",
       "7611  Police investigating after an e-bike collided ...       1  \n",
       "7612  The Latest: More Homes Razed by Northern Calif...       1  "
      ]
     },
     "execution_count": 5,
     "metadata": {},
     "output_type": "execute_result"
    }
   ],
   "source": [
    "df_train.tail()"
   ]
  },
  {
   "cell_type": "code",
   "execution_count": 6,
   "metadata": {
    "execution": {
     "iopub.execute_input": "2023-07-30T18:35:03.714888Z",
     "iopub.status.busy": "2023-07-30T18:35:03.714566Z",
     "iopub.status.idle": "2023-07-30T18:35:03.720584Z",
     "shell.execute_reply": "2023-07-30T18:35:03.719324Z",
     "shell.execute_reply.started": "2023-07-30T18:35:03.714831Z"
    }
   },
   "outputs": [
    {
     "name": "stdout",
     "output_type": "stream",
     "text": [
      "There are 7613 rows and 5 columns. \n"
     ]
    }
   ],
   "source": [
    "# shape\n",
    "print(f\"There are {df_train.shape[0]} rows and {df_train.shape[1]} columns. \")"
   ]
  },
  {
   "cell_type": "code",
   "execution_count": 7,
   "metadata": {
    "execution": {
     "iopub.execute_input": "2023-07-30T18:35:05.360858Z",
     "iopub.status.busy": "2023-07-30T18:35:05.360477Z",
     "iopub.status.idle": "2023-07-30T18:35:05.518174Z",
     "shell.execute_reply": "2023-07-30T18:35:05.517089Z",
     "shell.execute_reply.started": "2023-07-30T18:35:05.360799Z"
    }
   },
   "outputs": [
    {
     "data": {
      "text/plain": [
       "<matplotlib.axes._subplots.AxesSubplot at 0x7970a8db0cc0>"
      ]
     },
     "execution_count": 7,
     "metadata": {},
     "output_type": "execute_result"
    },
    {
     "data": {
      "image/png": "[encoded data removed]",
      "text/plain": [
       "<Figure size 432x288 with 1 Axes>"
      ]
     },
     "metadata": {
      "needs_background": "light"
     },
     "output_type": "display_data"
    }
   ],
   "source": [
    "# Class Distribution\n",
    "# 0 (Non Disaster) is more than 1 (Disaster) Tweets\n",
    "class_dist = df_train.target.value_counts()\n",
    "sns.barplot(class_dist.index,class_dist)"
   ]
  },
  {
   "cell_type": "code",
   "execution_count": 8,
   "metadata": {
    "execution": {
     "iopub.execute_input": "2023-07-30T18:35:14.802216Z",
     "iopub.status.busy": "2023-07-30T18:35:14.801769Z",
     "iopub.status.idle": "2023-07-30T18:35:14.979969Z",
     "shell.execute_reply": "2023-07-30T18:35:14.978574Z",
     "shell.execute_reply.started": "2023-07-30T18:35:14.802142Z"
    }
   },
   "outputs": [
    {
     "data": {
      "text/plain": [
       "<matplotlib.axes._subplots.AxesSubplot at 0x7970a8cef470>"
      ]
     },
     "execution_count": 8,
     "metadata": {},
     "output_type": "execute_result"
    },
    {
     "data": {
      "image/png": "[encoded data removed]",
      "text/plain": [
       "<Figure size 432x288 with 1 Axes>"
      ]
     },
     "metadata": {
      "needs_background": "light"
     },
     "output_type": "display_data"
    }
   ],
   "source": [
    "# Misssing vs Non Missing\n",
    "# 'keyword' & 'location' columns have missing values. Lets also ignore 'keyword' and 'location' column for now.\n",
    "null_vals = df_train.isnull().sum()\n",
    "sns.barplot(null_vals.index,null_vals)"
   ]
  },
  {
   "cell_type": "markdown",
   "metadata": {},
   "source": [
    "### Data Cleaning\n",
    "\n",
    "Common steps for data cleaning on the NLP task dealing with tweets are removing special characters, removing stop words, removing URLs, removing numbers, and doing word stemming. \n",
    "\n",
    "Remove unnecessary information from the tweets.\n",
    "- Remove tags\n",
    "- Remove puntuctions\n",
    "- Remove URL\n",
    "- Remove emojis\n",
    "\n",
    "Some NLP data preprocessing concepts:\n",
    "\n",
    "Vectorization: Word vectorization is a technique of mapping words to a vector of real numbers. \n",
    "\n",
    "Tokenization: Tokenization is the task of breaking a phrase which can be anything such as a sentence, a paragraph, or just a text into smaller sections such as a series of words, a series of characters, or a series of subwords, and they are called tokens. One use of tokenization is to generate tokens from a text and later convert tokens to numbers (vectorization).\n",
    "\n",
    "Stemming: Stemming is used to reduce extra characters from a word to its root or base of a word. For example, stemming both words “working” and “worked” becomes “work”.\n",
    "\n",
    "Word Embedding: A word embedding is a learned representation for text where words that have the same meaning have a similar representation. Each word is mapped to one vector and the vector values are learned in a way that resembles a neural network.\n",
    "\n",
    "Now let’s look at the entire data cleaning code:"
   ]
  },
  {
   "cell_type": "code",
   "execution_count": 9,
   "metadata": {
    "execution": {
     "iopub.execute_input": "2023-07-30T18:35:17.110578Z",
     "iopub.status.busy": "2023-07-30T18:35:17.110274Z",
     "iopub.status.idle": "2023-07-30T18:35:17.119330Z",
     "shell.execute_reply": "2023-07-30T18:35:17.117720Z",
     "shell.execute_reply.started": "2023-07-30T18:35:17.110517Z"
    }
   },
   "outputs": [],
   "source": [
    "# Removing <> tags\n",
    "\n",
    "def remove_spec(text):\n",
    "    text = re.sub('<.*?>+', '', text)\n",
    "    text = text.lower()\n",
    "    return text\n",
    "\n",
    "# Removing puntuctions\n",
    "\n",
    "def remove_punctuation(text):\n",
    "    table = str.maketrans('','',string.punctuation)\n",
    "    return text.translate(table)\n",
    "\n",
    "# Removing URL\n",
    "\n",
    "def remove_urls(text):\n",
    "    text = re.sub(r\"https?:\\/\\/t.co\\/[A-Za-z0-9]+\",'',text)\n",
    "    return text\n",
    "\n",
    "# Removing Emojis\n",
    "\n",
    "def remove_emoji(text):\n",
    "    emojis = re.compile(\"[\"\n",
    "                           u\"\\U0001F600-\\U0001F64F\"  # emoticons\n",
    "                           u\"\\U0001F300-\\U0001F5FF\"  # symbols & pictographs\n",
    "                           u\"\\U0001F680-\\U0001F6FF\"  # transport & map symbols\n",
    "                           u\"\\U0001F1E0-\\U0001F1FF\"  # flags (iOS)\n",
    "                           u\"\\U00002702-\\U000027B0\"\n",
    "                           u\"\\U000024C2-\\U0001F251\"\n",
    "                           \"]+\", flags=re.UNICODE)\n",
    "    \n",
    "    text = re.sub(emojis,'',text)\n",
    "    return text\n"
   ]
  },
  {
   "cell_type": "code",
   "execution_count": 10,
   "metadata": {
    "execution": {
     "iopub.execute_input": "2023-07-30T18:35:18.259555Z",
     "iopub.status.busy": "2023-07-30T18:35:18.259131Z",
     "iopub.status.idle": "2023-07-30T18:35:18.382785Z",
     "shell.execute_reply": "2023-07-30T18:35:18.381107Z",
     "shell.execute_reply.started": "2023-07-30T18:35:18.259474Z"
    }
   },
   "outputs": [],
   "source": [
    "df_train['cleaned_text'] = df_train['text'].apply(lambda x : remove_punctuation(x))\n",
    "df_train['cleaned_text'] = df_train['cleaned_text'].apply(lambda x : remove_urls(x))\n",
    "df_train['cleaned_text'] = df_train['cleaned_text'].apply(lambda x : remove_emoji(x))\n",
    "df_train['cleaned_text'] = df_train['cleaned_text'].apply(lambda x : remove_spec(x))"
   ]
  },
  {
   "cell_type": "code",
   "execution_count": 11,
   "metadata": {
    "execution": {
     "iopub.execute_input": "2023-07-30T18:35:19.739186Z",
     "iopub.status.busy": "2023-07-30T18:35:19.738749Z",
     "iopub.status.idle": "2023-07-30T18:35:20.824281Z",
     "shell.execute_reply": "2023-07-30T18:35:20.822881Z",
     "shell.execute_reply.started": "2023-07-30T18:35:19.739118Z"
    }
   },
   "outputs": [
    {
     "name": "stderr",
     "output_type": "stream",
     "text": [
      "100%|██████████| 7613/7613 [00:01<00:00, 7107.14it/s]\n"
     ]
    }
   ],
   "source": [
    "# Creating Words Corpus\n",
    "\n",
    "def create_corpus(dataset):\n",
    "    corpus = []\n",
    "    for review in tqdm(dataset['cleaned_text']):\n",
    "        words = [ word.lower() for word in word_tokenize(review) if (word.isalpha() == 1 ) & (word not in stop) ]\n",
    "        corpus.append(words)\n",
    "\n",
    "    return corpus\n",
    "\n",
    "corpus = create_corpus(df_train)\n"
   ]
  },
  {
   "cell_type": "code",
   "execution_count": 12,
   "metadata": {
    "execution": {
     "iopub.execute_input": "2023-07-30T18:35:25.353293Z",
     "iopub.status.busy": "2023-07-30T18:35:25.352840Z",
     "iopub.status.idle": "2023-07-30T18:35:36.802995Z",
     "shell.execute_reply": "2023-07-30T18:35:36.801927Z",
     "shell.execute_reply.started": "2023-07-30T18:35:25.353214Z"
    }
   },
   "outputs": [],
   "source": [
    "# Creating Embedding Dictionary\n",
    "\n",
    "embedding_dict={}\n",
    "with open('/kaggle/input/glove6b100dtxt/glove.6B.100d.txt','r', encoding='utf8') as f:\n",
    "    for line in f:\n",
    "        values=line.split()\n",
    "        word=values[0]\n",
    "        vectors=np.asarray(values[1:],'float32')\n",
    "        embedding_dict[word]=vectors\n",
    "f.close()"
   ]
  },
  {
   "cell_type": "code",
   "execution_count": 13,
   "metadata": {
    "execution": {
     "iopub.execute_input": "2023-07-30T18:35:45.325913Z",
     "iopub.status.busy": "2023-07-30T18:35:45.325636Z",
     "iopub.status.idle": "2023-07-30T18:35:45.497136Z",
     "shell.execute_reply": "2023-07-30T18:35:45.496468Z",
     "shell.execute_reply.started": "2023-07-30T18:35:45.325864Z"
    }
   },
   "outputs": [],
   "source": [
    "# Tokenize : break the sentence into single word/token\n",
    "# texts_to_sequences : convert tokenized word into an encoded sequnce\n",
    "# pad_sequence : change the length of sequence by either adding or truncating\n",
    "\n",
    "MAX_LEN = 20 \n",
    "tokenizer = Tokenizer()\n",
    "tokenizer.fit_on_texts(corpus)\n",
    "\n",
    "sequences = tokenizer.texts_to_sequences(corpus)\n",
    "\n",
    "corpus_pad = pad_sequences(sequences, maxlen=MAX_LEN, truncating='post', padding='post')"
   ]
  },
  {
   "cell_type": "code",
   "execution_count": 14,
   "metadata": {
    "execution": {
     "iopub.execute_input": "2023-07-30T18:35:46.880654Z",
     "iopub.status.busy": "2023-07-30T18:35:46.880246Z",
     "iopub.status.idle": "2023-07-30T18:35:46.885661Z",
     "shell.execute_reply": "2023-07-30T18:35:46.884149Z",
     "shell.execute_reply.started": "2023-07-30T18:35:46.880592Z"
    }
   },
   "outputs": [
    {
     "name": "stdout",
     "output_type": "stream",
     "text": [
      "Number of unique words : 16883\n"
     ]
    }
   ],
   "source": [
    "# Unique words present\n",
    "word_index = tokenizer.word_index\n",
    "print(f\"Number of unique words : {len(word_index)}\")"
   ]
  },
  {
   "cell_type": "code",
   "execution_count": 15,
   "metadata": {
    "execution": {
     "iopub.execute_input": "2023-07-30T18:35:48.231943Z",
     "iopub.status.busy": "2023-07-30T18:35:48.231346Z",
     "iopub.status.idle": "2023-07-30T18:35:48.290542Z",
     "shell.execute_reply": "2023-07-30T18:35:48.289808Z",
     "shell.execute_reply.started": "2023-07-30T18:35:48.231882Z"
    }
   },
   "outputs": [
    {
     "name": "stderr",
     "output_type": "stream",
     "text": [
      "100%|██████████| 16883/16883 [00:00<00:00, 369380.38it/s]\n"
     ]
    }
   ],
   "source": [
    "# Creating embedding matrix with GloVe using enbedding_dict we created above\n",
    "num_words=len(word_index)+1\n",
    "embedding_matrix=np.zeros((num_words,100))\n",
    "\n",
    "for word,i in tqdm(word_index.items()):\n",
    "    if i > num_words:\n",
    "        continue\n",
    "    \n",
    "    emb_vec=embedding_dict.get(word)\n",
    "    if emb_vec is not None:\n",
    "        embedding_matrix[i]=emb_vec"
   ]
  },
  {
   "cell_type": "markdown",
   "metadata": {},
   "source": [
    "## Model Architecture\n",
    "\n",
    "LSTM (Long Short Term Memory network) is a kind of RNN (Recurrent Neural Network) that is capable of learning long-term dependencies and they can remember information for a long period of time as designed with an internal memory system.\n",
    "\n",
    "For the LSTM model, I have started with an embedding layer to generate an embedding vector for each input sequence. Then I added a dropout layer to lower the number of features followed by a bidirectional LSTM layer. The last layer is a dense layer. Because it is a binary classification we use sigmoid as an activation function."
   ]
  },
  {
   "cell_type": "code",
   "execution_count": 16,
   "metadata": {
    "execution": {
     "iopub.execute_input": "2023-07-30T18:37:49.996124Z",
     "iopub.status.busy": "2023-07-30T18:37:49.995604Z",
     "iopub.status.idle": "2023-07-30T18:37:50.432909Z",
     "shell.execute_reply": "2023-07-30T18:37:50.431552Z",
     "shell.execute_reply.started": "2023-07-30T18:37:49.996075Z"
    }
   },
   "outputs": [
    {
     "name": "stdout",
     "output_type": "stream",
     "text": [
      "Model: \"sequential_1\"\n",
      "_________________________________________________________________\n",
      "Layer (type)                 Output Shape              Param #   \n",
      "=================================================================\n",
      "embedding_1 (Embedding)      (None, 20, 100)           1688400   \n",
      "_________________________________________________________________\n",
      "spatial_dropout1d_1 (Spatial (None, 20, 100)           0         \n",
      "_________________________________________________________________\n",
      "lstm_1 (LSTM)                (None, 64)                42240     \n",
      "_________________________________________________________________\n",
      "dense_1 (Dense)              (None, 1)                 65        \n",
      "=================================================================\n",
      "Total params: 1,730,705\n",
      "Trainable params: 42,305\n",
      "Non-trainable params: 1,688,400\n",
      "_________________________________________________________________\n"
     ]
    }
   ],
   "source": [
    "# Long Short Term Memory network.\n",
    "\n",
    "# We need sequential model to process sequence of text data\n",
    "model=Sequential()\n",
    "\n",
    "# Embedding(input_dimension, output_dimension,embeddings_initializer = initialize the embedding matrix we created, trainable = do not train)\n",
    "embedding=Embedding(num_words,100,\n",
    "                    embeddings_initializer=Constant(embedding_matrix),\n",
    "                    input_length=MAX_LEN,\n",
    "                    trainable=False)\n",
    "# Adding Embedding Layer\n",
    "model.add(embedding)\n",
    "\n",
    "# Drops 40% of entire row\n",
    "model.add(SpatialDropout1D(0.4))\n",
    "\n",
    "# Recurrent Layer LSTM(dimensionality of the output space, dropout = 20%, recurrent_dropout = 20%) \n",
    "model.add(LSTM(64, dropout=0.2, recurrent_dropout=0.2))\n",
    "\n",
    "# Decide what we are going to output Dense(units, activation function)\n",
    "model.add(Dense(1, activation='sigmoid'))\n",
    "\n",
    "# Compile the model compile(loss = binary crossentropy, use Adam(adaptive moment estimation) optimizer with learning rate 1e-3,evaluate based on accuracy)\n",
    "model.compile(loss='binary_crossentropy',optimizer=Adam(learning_rate=1e-4),metrics=['accuracy'])\n",
    "\n",
    "model.summary()"
   ]
  },
  {
   "cell_type": "code",
   "execution_count": 17,
   "metadata": {
    "execution": {
     "iopub.execute_input": "2023-07-30T18:37:55.858074Z",
     "iopub.status.busy": "2023-07-30T18:37:55.857744Z",
     "iopub.status.idle": "2023-07-30T18:37:55.867012Z",
     "shell.execute_reply": "2023-07-30T18:37:55.866081Z",
     "shell.execute_reply.started": "2023-07-30T18:37:55.858004Z"
    }
   },
   "outputs": [
    {
     "name": "stdout",
     "output_type": "stream",
     "text": [
      "Shape of train (5709, 20)\n",
      "Shape of Validation  (1904, 20)\n",
      "Shape of train (5709,)\n",
      "Shape of Validation  (1904,)\n"
     ]
    }
   ],
   "source": [
    "X_train,X_test,y_train,y_test = train_test_split(corpus_pad, df_train['target'].values, test_size = 0.25, random_state = 0 )\n",
    "\n",
    "print('Shape of train',X_train.shape)\n",
    "print(\"Shape of Validation \",X_test.shape)\n",
    "\n",
    "print('Shape of train',y_train.shape)\n",
    "print(\"Shape of Validation \",y_test.shape)"
   ]
  },
  {
   "cell_type": "code",
   "execution_count": 18,
   "metadata": {
    "execution": {
     "iopub.execute_input": "2023-07-30T18:37:58.722559Z",
     "iopub.status.busy": "2023-07-30T18:37:58.722261Z",
     "iopub.status.idle": "2023-07-30T18:39:09.488942Z",
     "shell.execute_reply": "2023-07-30T18:39:09.488000Z",
     "shell.execute_reply.started": "2023-07-30T18:37:58.722517Z"
    }
   },
   "outputs": [
    {
     "name": "stdout",
     "output_type": "stream",
     "text": [
      "Train on 5709 samples, validate on 1904 samples\n",
      "Epoch 1/30\n",
      " - 3s - loss: 0.6761 - accuracy: 0.6274 - val_loss: 0.6221 - val_accuracy: 0.7532\n",
      "Epoch 2/30\n",
      " - 2s - loss: 0.5695 - accuracy: 0.7332 - val_loss: 0.4966 - val_accuracy: 0.7747\n",
      "Epoch 3/30\n",
      " - 2s - loss: 0.5279 - accuracy: 0.7500 - val_loss: 0.4829 - val_accuracy: 0.7831\n",
      "Epoch 4/30\n",
      " - 2s - loss: 0.5290 - accuracy: 0.7462 - val_loss: 0.4750 - val_accuracy: 0.7847\n",
      "Epoch 5/30\n",
      " - 2s - loss: 0.5147 - accuracy: 0.7614 - val_loss: 0.4708 - val_accuracy: 0.7920\n",
      "Epoch 6/30\n",
      " - 2s - loss: 0.5062 - accuracy: 0.7653 - val_loss: 0.4678 - val_accuracy: 0.7962\n",
      "Epoch 7/30\n",
      " - 2s - loss: 0.5037 - accuracy: 0.7663 - val_loss: 0.4653 - val_accuracy: 0.7941\n",
      "Epoch 8/30\n",
      " - 2s - loss: 0.5010 - accuracy: 0.7698 - val_loss: 0.4654 - val_accuracy: 0.7978\n",
      "Epoch 9/30\n",
      " - 2s - loss: 0.5010 - accuracy: 0.7730 - val_loss: 0.4636 - val_accuracy: 0.8004\n",
      "Epoch 10/30\n",
      " - 2s - loss: 0.4949 - accuracy: 0.7705 - val_loss: 0.4621 - val_accuracy: 0.7962\n",
      "Epoch 11/30\n",
      " - 2s - loss: 0.4945 - accuracy: 0.7719 - val_loss: 0.4598 - val_accuracy: 0.7936\n",
      "Epoch 12/30\n",
      " - 2s - loss: 0.4827 - accuracy: 0.7775 - val_loss: 0.4613 - val_accuracy: 0.7952\n",
      "Epoch 13/30\n",
      " - 2s - loss: 0.4991 - accuracy: 0.7655 - val_loss: 0.4587 - val_accuracy: 0.7962\n",
      "Epoch 14/30\n",
      " - 2s - loss: 0.4877 - accuracy: 0.7749 - val_loss: 0.4570 - val_accuracy: 0.7962\n",
      "Epoch 15/30\n",
      " - 2s - loss: 0.4857 - accuracy: 0.7819 - val_loss: 0.4558 - val_accuracy: 0.7983\n",
      "Epoch 16/30\n",
      " - 2s - loss: 0.4872 - accuracy: 0.7812 - val_loss: 0.4552 - val_accuracy: 0.7978\n",
      "Epoch 17/30\n",
      " - 2s - loss: 0.4904 - accuracy: 0.7733 - val_loss: 0.4565 - val_accuracy: 0.7973\n",
      "Epoch 18/30\n",
      " - 2s - loss: 0.4859 - accuracy: 0.7782 - val_loss: 0.4558 - val_accuracy: 0.7967\n",
      "Epoch 19/30\n",
      " - 2s - loss: 0.4828 - accuracy: 0.7761 - val_loss: 0.4542 - val_accuracy: 0.8041\n",
      "Epoch 20/30\n",
      " - 2s - loss: 0.4889 - accuracy: 0.7711 - val_loss: 0.4541 - val_accuracy: 0.8009\n",
      "Epoch 21/30\n",
      " - 2s - loss: 0.4871 - accuracy: 0.7765 - val_loss: 0.4539 - val_accuracy: 0.8004\n",
      "Epoch 22/30\n",
      " - 2s - loss: 0.4804 - accuracy: 0.7768 - val_loss: 0.4538 - val_accuracy: 0.8036\n",
      "Epoch 23/30\n",
      " - 2s - loss: 0.4796 - accuracy: 0.7781 - val_loss: 0.4555 - val_accuracy: 0.7999\n",
      "Epoch 24/30\n",
      " - 2s - loss: 0.4799 - accuracy: 0.7795 - val_loss: 0.4529 - val_accuracy: 0.8015\n",
      "Epoch 25/30\n",
      " - 2s - loss: 0.4793 - accuracy: 0.7807 - val_loss: 0.4511 - val_accuracy: 0.8015\n",
      "Epoch 26/30\n",
      " - 2s - loss: 0.4817 - accuracy: 0.7768 - val_loss: 0.4500 - val_accuracy: 0.8030\n",
      "Epoch 27/30\n",
      " - 2s - loss: 0.4758 - accuracy: 0.7840 - val_loss: 0.4498 - val_accuracy: 0.8025\n",
      "Epoch 28/30\n",
      " - 2s - loss: 0.4768 - accuracy: 0.7810 - val_loss: 0.4499 - val_accuracy: 0.8009\n",
      "Epoch 29/30\n",
      " - 2s - loss: 0.4733 - accuracy: 0.7800 - val_loss: 0.4513 - val_accuracy: 0.8020\n",
      "Epoch 30/30\n",
      " - 2s - loss: 0.4720 - accuracy: 0.7853 - val_loss: 0.4516 - val_accuracy: 0.8020\n"
     ]
    }
   ],
   "source": [
    "history=model.fit(X_train,y_train,batch_size=32,epochs=30,validation_data=(X_test,y_test),verbose=2)"
   ]
  },
  {
   "cell_type": "code",
   "execution_count": 19,
   "metadata": {
    "execution": {
     "iopub.execute_input": "2023-07-30T18:39:20.181820Z",
     "iopub.status.busy": "2023-07-30T18:39:20.181538Z",
     "iopub.status.idle": "2023-07-30T18:39:20.374553Z",
     "shell.execute_reply": "2023-07-30T18:39:20.373914Z",
     "shell.execute_reply.started": "2023-07-30T18:39:20.181766Z"
    }
   },
   "outputs": [
    {
     "data": {
      "image/png": "[encoded data removed]",
      "text/plain": [
       "<Figure size 432x288 with 1 Axes>"
      ]
     },
     "metadata": {
      "needs_background": "light"
     },
     "output_type": "display_data"
    }
   ],
   "source": [
    "# Accuracy vs Epoch\n",
    "plt.title('Accuracy')\n",
    "plt.plot(history.history['accuracy'], label='train')\n",
    "plt.plot(history.history['val_accuracy'], label='test')\n",
    "plt.legend()\n",
    "plt.show();"
   ]
  },
  {
   "cell_type": "code",
   "execution_count": 20,
   "metadata": {
    "execution": {
     "iopub.execute_input": "2023-07-30T18:39:27.581792Z",
     "iopub.status.busy": "2023-07-30T18:39:27.581521Z",
     "iopub.status.idle": "2023-07-30T18:39:27.759593Z",
     "shell.execute_reply": "2023-07-30T18:39:27.758484Z",
     "shell.execute_reply.started": "2023-07-30T18:39:27.581745Z"
    }
   },
   "outputs": [
    {
     "data": {
      "image/png": "[encoded data removed]",
      "text/plain": [
       "<Figure size 432x288 with 1 Axes>"
      ]
     },
     "metadata": {
      "needs_background": "light"
     },
     "output_type": "display_data"
    }
   ],
   "source": [
    "# Loss vs Epoch\n",
    "# Visualize learning curve. It should be much smoother as it decreases.\n",
    "\n",
    "epoch_count = range(1, len(history.history['loss']) + 1)\n",
    "plt.plot(epoch_count, history.history['loss'], 'r--')\n",
    "plt.plot(epoch_count, history.history['val_loss'], 'b-')\n",
    "plt.legend(['Training Loss', 'Validation Loss'])\n",
    "plt.xlabel('Epoch')\n",
    "plt.ylabel('Loss')\n",
    "plt.show()"
   ]
  },
  {
   "cell_type": "markdown",
   "metadata": {},
   "source": [
    "The above plot shows Learning Curve of train accuracy and loss. The plot shows as model accuracy is increasing and the loss is decreasing as expected over each epoch."
   ]
  },
  {
   "cell_type": "markdown",
   "metadata": {},
   "source": [
    "### Result"
   ]
  },
  {
   "cell_type": "markdown",
   "metadata": {},
   "source": [
    "Now I have trained the model so it is time to evaluate its performance of the model. I will get the model accuracy and F-score for test data. Because the prediction value is a float between 0 and 1, I used 0.5 as a threshold to separate “0” and “1”."
   ]
  },
  {
   "cell_type": "code",
   "execution_count": 21,
   "metadata": {
    "execution": {
     "iopub.execute_input": "2023-07-30T18:39:40.195425Z",
     "iopub.status.busy": "2023-07-30T18:39:40.195108Z",
     "iopub.status.idle": "2023-07-30T18:39:40.253634Z",
     "shell.execute_reply": "2023-07-30T18:39:40.252228Z",
     "shell.execute_reply.started": "2023-07-30T18:39:40.195367Z"
    }
   },
   "outputs": [],
   "source": [
    "# Clean Test data\n",
    "\n",
    "df_test['cleaned_text'] = df_test['text'].apply(lambda x : remove_punctuation(x))\n",
    "df_test['cleaned_text'] = df_test['cleaned_text'].apply(lambda x : remove_urls(x))\n",
    "df_test['cleaned_text'] = df_test['cleaned_text'].apply(lambda x : remove_emoji(x))\n",
    "df_test['cleaned_text'] = df_test['cleaned_text'].apply(lambda x : remove_spec(x))"
   ]
  },
  {
   "cell_type": "code",
   "execution_count": 22,
   "metadata": {
    "execution": {
     "iopub.execute_input": "2023-07-30T18:39:42.088100Z",
     "iopub.status.busy": "2023-07-30T18:39:42.087753Z",
     "iopub.status.idle": "2023-07-30T18:39:42.558681Z",
     "shell.execute_reply": "2023-07-30T18:39:42.557452Z",
     "shell.execute_reply.started": "2023-07-30T18:39:42.088026Z"
    }
   },
   "outputs": [
    {
     "name": "stderr",
     "output_type": "stream",
     "text": [
      "100%|██████████| 3263/3263 [00:00<00:00, 7035.90it/s]\n"
     ]
    }
   ],
   "source": [
    "# Creating corpus\n",
    "test_corpus = create_corpus(df_test)"
   ]
  },
  {
   "cell_type": "code",
   "execution_count": 23,
   "metadata": {
    "execution": {
     "iopub.execute_input": "2023-07-30T18:39:46.502514Z",
     "iopub.status.busy": "2023-07-30T18:39:46.502172Z",
     "iopub.status.idle": "2023-07-30T18:39:46.546139Z",
     "shell.execute_reply": "2023-07-30T18:39:46.544233Z",
     "shell.execute_reply.started": "2023-07-30T18:39:46.502476Z"
    }
   },
   "outputs": [],
   "source": [
    "# Encoding Test Text to Sequences\n",
    "test_sequences = tokenizer.texts_to_sequences(test_corpus)\n",
    "\n",
    "test_corpus_pad = pad_sequences(test_sequences, maxlen=MAX_LEN, truncating='post', padding='post')"
   ]
  },
  {
   "cell_type": "code",
   "execution_count": 28,
   "metadata": {
    "execution": {
     "iopub.execute_input": "2023-07-30T18:43:11.037314Z",
     "iopub.status.busy": "2023-07-30T18:43:11.036983Z",
     "iopub.status.idle": "2023-07-30T18:43:11.179336Z",
     "shell.execute_reply": "2023-07-30T18:43:11.178523Z",
     "shell.execute_reply.started": "2023-07-30T18:43:11.037258Z"
    }
   },
   "outputs": [
    {
     "name": "stdout",
     "output_type": "stream",
     "text": [
      "1904/1904 [==============================] - 0s 32us/step\n",
      "1904/1904 [==============================] - 0s 32us/step\n",
      "Test Accuracy:  0.8019958138465881\n",
      "              precision    recall  f1-score   support\n",
      "\n",
      "           0       0.80      0.88      0.84      1107\n",
      "           1       0.80      0.70      0.75       797\n",
      "\n",
      "    accuracy                           0.80      1904\n",
      "   macro avg       0.80      0.79      0.79      1904\n",
      "weighted avg       0.80      0.80      0.80      1904\n",
      "\n"
     ]
    }
   ],
   "source": [
    "#Evaluate the model\n",
    "predictions = model.predict(X_test, verbose=1, batch_size=10000)\n",
    "\n",
    "y_predicted = [1 if each > 0.5 else 0 for each in predictions]\n",
    "\n",
    "score, test_accuracy = model.evaluate(X_test, y_test, batch_size=10000)\n",
    "\n",
    "print(\"Test Accuracy: \", test_accuracy)\n",
    "print(metrics.classification_report(list(y_test), y_predicted))"
   ]
  },
  {
   "cell_type": "code",
   "execution_count": 29,
   "metadata": {
    "execution": {
     "iopub.execute_input": "2023-07-30T18:47:42.236833Z",
     "iopub.status.busy": "2023-07-30T18:47:42.236566Z",
     "iopub.status.idle": "2023-07-30T18:47:42.442676Z",
     "shell.execute_reply": "2023-07-30T18:47:42.442052Z",
     "shell.execute_reply.started": "2023-07-30T18:47:42.236797Z"
    }
   },
   "outputs": [
    {
     "data": {
      "image/png": "[encoded data removed]",
      "text/plain": [
       "<Figure size 432x288 with 1 Axes>"
      ]
     },
     "metadata": {
      "needs_background": "light"
     },
     "output_type": "display_data"
    }
   ],
   "source": [
    "# Plot confusion matrix\n",
    "conf_matrix = metrics.confusion_matrix(y_test, y_predicted)\n",
    "\n",
    "fig, ax = plt.subplots()\n",
    "sns.heatmap(conf_matrix, cbar=False, cmap='Reds', annot=True, fmt='d')\n",
    "ax.set(xlabel=\"Predicted Value\", ylabel=\"True Value\", title=\"Confusion Matrix\")\n",
    "ax.set_yticklabels(labels=['0', '1'], rotation=0)\n",
    "plt.show()"
   ]
  },
  {
   "cell_type": "markdown",
   "metadata": {},
   "source": [
    "As we can see in the Confusion matrix the model did a better job at detecting “0” than detecting “1”."
   ]
  },
  {
   "cell_type": "markdown",
   "metadata": {},
   "source": [
    "## Submission"
   ]
  },
  {
   "cell_type": "code",
   "execution_count": 30,
   "metadata": {
    "execution": {
     "iopub.execute_input": "2023-07-30T18:50:05.075071Z",
     "iopub.status.busy": "2023-07-30T18:50:05.074622Z",
     "iopub.status.idle": "2023-07-30T18:50:05.618701Z",
     "shell.execute_reply": "2023-07-30T18:50:05.617940Z",
     "shell.execute_reply.started": "2023-07-30T18:50:05.074995Z"
    }
   },
   "outputs": [
    {
     "data": {
      "text/html": [
       "<div>\n",
       "<style scoped>\n",
       "    .dataframe tbody tr th:only-of-type {\n",
       "        vertical-align: middle;\n",
       "    }\n",
       "\n",
       "    .dataframe tbody tr th {\n",
       "        vertical-align: top;\n",
       "    }\n",
       "\n",
       "    .dataframe thead th {\n",
       "        text-align: right;\n",
       "    }\n",
       "</style>\n",
       "<table border=\"1\" class=\"dataframe\">\n",
       "  <thead>\n",
       "    <tr style=\"text-align: right;\">\n",
       "      <th></th>\n",
       "      <th>id</th>\n",
       "      <th>target</th>\n",
       "    </tr>\n",
       "  </thead>\n",
       "  <tbody>\n",
       "    <tr>\n",
       "      <th>0</th>\n",
       "      <td>0</td>\n",
       "      <td>1</td>\n",
       "    </tr>\n",
       "    <tr>\n",
       "      <th>1</th>\n",
       "      <td>2</td>\n",
       "      <td>1</td>\n",
       "    </tr>\n",
       "    <tr>\n",
       "      <th>2</th>\n",
       "      <td>3</td>\n",
       "      <td>1</td>\n",
       "    </tr>\n",
       "    <tr>\n",
       "      <th>3</th>\n",
       "      <td>9</td>\n",
       "      <td>1</td>\n",
       "    </tr>\n",
       "    <tr>\n",
       "      <th>4</th>\n",
       "      <td>11</td>\n",
       "      <td>1</td>\n",
       "    </tr>\n",
       "  </tbody>\n",
       "</table>\n",
       "</div>"
      ],
      "text/plain": [
       "   id  target\n",
       "0   0       1\n",
       "1   2       1\n",
       "2   3       1\n",
       "3   9       1\n",
       "4  11       1"
      ]
     },
     "execution_count": 30,
     "metadata": {},
     "output_type": "execute_result"
    }
   ],
   "source": [
    "# Creating submission file \n",
    "predictions = model.predict(test_corpus_pad)\n",
    "predictions = np.round(predictions).astype(int).reshape(3263)\n",
    "submission = pd.DataFrame({'id' : df_test['id'], 'target' : predictions})\n",
    "submission.to_csv('final_submission.csv', index=False)\n",
    "\n",
    "submission.head()"
   ]
  },
  {
   "cell_type": "markdown",
   "metadata": {},
   "source": [
    "## Github URL:\n",
    "https://github.com/occoder2021/disaster-tweet-rnn"
   ]
  },
  {
   "cell_type": "code",
   "execution_count": null,
   "metadata": {},
   "outputs": [],
   "source": []
  }
 ],
 "metadata": {
  "kernelspec": {
   "display_name": "Python 3 (ipykernel)",
   "language": "python",
   "name": "python3"
  },
  "language_info": {
   "codemirror_mode": {
    "name": "ipython",
    "version": 3
   },
   "file_extension": ".py",
   "mimetype": "text/x-python",
   "name": "python",
   "nbconvert_exporter": "python",
   "pygments_lexer": "ipython3",
   "version": "3.10.11"
  }
 },
 "nbformat": 4,
 "nbformat_minor": 4
}
